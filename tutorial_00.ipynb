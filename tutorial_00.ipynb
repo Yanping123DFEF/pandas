{
 "cells": [
  {
   "cell_type": "code",
   "execution_count": null,
   "id": "bb490edd",
   "metadata": {},
   "outputs": [],
   "source": [
    "# numpy\n",
    "# pandas\n",
    "# matplotlib\n",
    "# Ipython and Jupyter\n",
    "# Scipy\n",
    "# scikit-learn\n",
    "# statsmodels"
   ]
  },
  {
   "cell_type": "markdown",
   "id": "2167e0a5",
   "metadata": {},
   "source": [
    "# 学习教程\n",
    "\n",
    "* python for data science (https://wesmckinney.com/book/python-builtin.html) (https://github.com/wesm/pydata-book/blob/3rd-edition/ch02.ipynb)\n",
    "\n",
    "* pandas cookbook (https://pandas.pydata.org/docs/user_guide/cookbook.html)\n",
    "\n",
    "* pandas official user guide (https://pandas.pydata.org/pandas-docs/version/1.0.0/user_guide/index.html)\n",
    "\n",
    "* Joyful-Pandas (https://github.com/yeayee/joyful-pandas)\n",
    "\n",
    "* pandas cheat sheet (https://pandas.pydata.org/Pandas_Cheat_Sheet.pdf)"
   ]
  },
  {
   "cell_type": "code",
   "execution_count": null,
   "id": "e2d497a7",
   "metadata": {},
   "outputs": [],
   "source": []
  },
  {
   "cell_type": "code",
   "execution_count": null,
   "id": "9803d87a",
   "metadata": {},
   "outputs": [],
   "source": []
  }
 ],
 "metadata": {
  "kernelspec": {
   "display_name": "Python 3 (ipykernel)",
   "language": "python",
   "name": "python3"
  },
  "language_info": {
   "codemirror_mode": {
    "name": "ipython",
    "version": 3
   },
   "file_extension": ".py",
   "mimetype": "text/x-python",
   "name": "python",
   "nbconvert_exporter": "python",
   "pygments_lexer": "ipython3",
   "version": "3.9.13"
  }
 },
 "nbformat": 4,
 "nbformat_minor": 5
}

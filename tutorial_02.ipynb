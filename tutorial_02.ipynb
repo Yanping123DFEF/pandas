{
 "cells": [
  {
   "cell_type": "markdown",
   "id": "da6e2a4f",
   "metadata": {},
   "source": [
    "# 工作中常用到的函数"
   ]
  },
  {
   "cell_type": "markdown",
   "id": "7b617740",
   "metadata": {},
   "source": [
    "## Read tsv file using pandas"
   ]
  },
  {
   "cell_type": "code",
   "execution_count": 1,
   "id": "d925ac9d",
   "metadata": {},
   "outputs": [],
   "source": [
    "import pandas as pd"
   ]
  },
  {
   "cell_type": "code",
   "execution_count": null,
   "id": "bed12a06",
   "metadata": {},
   "outputs": [],
   "source": [
    "df=pd.read_csv(\"\")\n",
    "# iterating the columns\n",
    "for col in df.columns:\n",
    "    print(col)"
   ]
  },
  {
   "cell_type": "markdown",
   "id": "bcca50d6",
   "metadata": {},
   "source": [
    "# Select specific columns do not opening tsv file"
   ]
  },
  {
   "cell_type": "code",
   "execution_count": 3,
   "id": "485d5b90",
   "metadata": {},
   "outputs": [],
   "source": [
    "fields = [\"Target Source Organism According to Curator or DataSource\",'Ki (nM)','IC50 (nM)','Kd (nM)',\"EC50 (nM)\",\"Curation/DataSource\",\"Article DOI\",\"PubChem AID\",\"DrugBank ID of Ligand\",\"UniProt (SwissProt) Recommended Name of Target Chain\",\"UniProt (SwissProt) Primary ID of Target Chain\"]\n",
    "\n",
    "df1 = pd.read_csv('/Users/yanpingwang/Desktop/上海交大/尤老师/BindingDB2/BindingDB_All(原文件).tsv',sep='\\t', skipinitialspace=True, usecols=fields)"
   ]
  },
  {
   "cell_type": "markdown",
   "id": "1c2c6e04",
   "metadata": {},
   "source": [
    "# Pandas 常用函数"
   ]
  },
  {
   "cell_type": "code",
   "execution_count": null,
   "id": "ee1ab02a",
   "metadata": {},
   "outputs": [],
   "source": [
    "# read tsv file\n",
    "drug = pd.read_csv('/Users/yanpingwang/Desktop/druglist构建/DTI_Disease_Sider/DTI(ParseResult)/drugbank-for-DTI.tsv', sep='\\t')\n",
    "drug.drop(drug.columns[[0]], axis=1, inplace=True)"
   ]
  },
  {
   "cell_type": "code",
   "execution_count": null,
   "id": "d88f93af",
   "metadata": {},
   "outputs": [],
   "source": [
    "# read text file into pandas DataFrame\n",
    "drug732_disease = pd.read_csv(\"disease_dict.txt\", sep=\":\",header=None)"
   ]
  },
  {
   "cell_type": "code",
   "execution_count": null,
   "id": "ad3b06f4",
   "metadata": {},
   "outputs": [],
   "source": [
    "df= pd.read_csv('drug_sideefect.csv',header=None)"
   ]
  },
  {
   "cell_type": "code",
   "execution_count": null,
   "id": "99e12928",
   "metadata": {},
   "outputs": [],
   "source": []
  },
  {
   "cell_type": "code",
   "execution_count": null,
   "id": "b73d587d",
   "metadata": {},
   "outputs": [],
   "source": [
    "# rename\n",
    "drug_732=drug_732.rename(columns={\"0\":\"drugbank_id\",\"1\":\"name\"})"
   ]
  },
  {
   "cell_type": "code",
   "execution_count": null,
   "id": "1b97f929",
   "metadata": {},
   "outputs": [],
   "source": [
    "# 查重复\n",
    "df_test=df_test[df_test.duplicated(keep=False)]"
   ]
  },
  {
   "cell_type": "code",
   "execution_count": null,
   "id": "afa9230d",
   "metadata": {},
   "outputs": [],
   "source": [
    "# 去掉重复值\n",
    "drug=drug.drop_duplicates(subset=['drugbank_id'],keep='first')"
   ]
  },
  {
   "cell_type": "code",
   "execution_count": null,
   "id": "4a88572a",
   "metadata": {},
   "outputs": [],
   "source": [
    "# 查找缺失值，去掉缺失值\n",
    "df001['drugbank_id'].isna().sum()\n",
    "rr[rr.years_exp.isnull()]\n",
    "df002=df002.dropna(subset=['drugbank_id'])\n",
    "df002.shape"
   ]
  },
  {
   "cell_type": "markdown",
   "id": "cac07599",
   "metadata": {},
   "source": [
    "### Merge : https://www.datasciencemadesimple.com/join-merge-data-frames-pandas-python/"
   ]
  },
  {
   "cell_type": "code",
   "execution_count": null,
   "id": "6d993a10",
   "metadata": {},
   "outputs": [],
   "source": [
    "# merge inner\n",
    "ddf0 = pd.merge(drug_732, DrugInteraction, how='inner',on=['drugbank_id'])\n",
    "ddf0.shape"
   ]
  },
  {
   "cell_type": "code",
   "execution_count": null,
   "id": "caa12237",
   "metadata": {},
   "outputs": [],
   "source": [
    "# merge outer\n",
    "merged = ddf0.merge(drug_732, on=['drugbank_id'],indicator=True, how='outer')\n",
    "ddf1=merged[merged['_merge'] == 'right_only']"
   ]
  },
  {
   "cell_type": "code",
   "execution_count": null,
   "id": "4b2bede9",
   "metadata": {},
   "outputs": [],
   "source": [
    "# merge multiple columns\n",
    "df04= df02.merge(df01, how='inner', left_on=['drugbank_id',\"uniprot_id\"], right_on=['DrugBank ID of Ligand',\"UniProt (SwissProt) Primary ID of Target Chain\"])"
   ]
  },
  {
   "cell_type": "code",
   "execution_count": null,
   "id": "389911fd",
   "metadata": {},
   "outputs": [],
   "source": [
    "# 合并\n",
    "frames=[df000,ddf1,Ndf01]\n",
    "Ndf=pd.concat(frames)"
   ]
  },
  {
   "cell_type": "markdown",
   "id": "f4304b9f",
   "metadata": {},
   "source": [
    "## 正则 How to use regular expressions to remove text within parentheses in Python"
   ]
  },
  {
   "cell_type": "code",
   "execution_count": null,
   "id": "21fc6e9a",
   "metadata": {},
   "outputs": [],
   "source": [
    "df0['name'].str.re.sub(\"[\\(\\[].*?[\\)\\]]\", \"\", x)\n",
    "df0['name'].str.replace(r\"\\(.*\\)\",\"\")\n",
    "df0['name'] = df0['name'].str.replace('<','(')\n",
    "df0['name'] = df0['name'].str.replace('>',')')\n",
    "df0['name'] = df0['name'].str.replace(r\"\\([^()]*\\)\", \"\", regex=True)\n",
    "#'''Strip all the space'''.str.rstrip()\n",
    "df0['name'] = df0['name'].str.rstrip()\n",
    "print(f'After Trimming Whitespaces String =\\'{s1.strip()}\\'')"
   ]
  },
  {
   "cell_type": "code",
   "execution_count": null,
   "id": "771b9a04",
   "metadata": {},
   "outputs": [],
   "source": [
    "# reset index\n",
    "df02=df02.reset_index(drop=True)"
   ]
  },
  {
   "cell_type": "code",
   "execution_count": null,
   "id": "174346f6",
   "metadata": {},
   "outputs": [],
   "source": [
    "#and_filter = (country_info['Deathrate'] > '1000') & (country_info['Population'] < 10000)\n",
    "df_test01=(df01['drugbank_id']=='DB00528') & (df01['uniprot_id']=='P24462')\n",
    "df_test01=df01.loc[df_test01] \n",
    "df_test01"
   ]
  },
  {
   "cell_type": "code",
   "execution_count": null,
   "id": "6040870c",
   "metadata": {},
   "outputs": [],
   "source": [
    "df03[df03[\"drugbank_id\"]==\"DB00967\"]"
   ]
  },
  {
   "cell_type": "code",
   "execution_count": null,
   "id": "aa1173f1",
   "metadata": {},
   "outputs": [],
   "source": [
    "# 加一列有着相同的值\n",
    "df['Name'] = 'abc'"
   ]
  },
  {
   "cell_type": "code",
   "execution_count": null,
   "id": "bcc92151",
   "metadata": {},
   "outputs": [],
   "source": [
    "#Drop a row by index\n",
    "df.drop([0, 1])"
   ]
  },
  {
   "cell_type": "code",
   "execution_count": null,
   "id": "534d5235",
   "metadata": {},
   "outputs": [],
   "source": [
    "drug98['Disease'].value_counts(dropna=False)"
   ]
  },
  {
   "cell_type": "code",
   "execution_count": null,
   "id": "ef23cc99",
   "metadata": {},
   "outputs": [],
   "source": [
    "# save dataframe to csv\n",
    "df03.to_csv('drug775_dti_dict.csv', index=False)"
   ]
  },
  {
   "cell_type": "markdown",
   "id": "6d03aa40",
   "metadata": {},
   "source": [
    "## 8 Ways to Filter Pandas Dataframes\n",
    "\n",
    "https://towardsdatascience.com/8-ways-to-filter-pandas-dataframes-d34ba585c1b8"
   ]
  },
  {
   "cell_type": "markdown",
   "id": "b0781769",
   "metadata": {},
   "source": [
    "## Add column names to dataframe in Pandas\n",
    "\n",
    "https://www.geeksforgeeks.org/add-column-names-to-dataframe-in-pandas/"
   ]
  },
  {
   "cell_type": "markdown",
   "id": "f83a632a",
   "metadata": {},
   "source": [
    "https://www.tutorialspoint.com/use-a-list-of-values-to-select-rows-from-a-pandas-dataframe"
   ]
  },
  {
   "cell_type": "code",
   "execution_count": null,
   "id": "37d027f3",
   "metadata": {},
   "outputs": [],
   "source": [
    "drug732_00.nunique(axis=0)(# check the values of each row for each column)"
   ]
  },
  {
   "cell_type": "code",
   "execution_count": null,
   "id": "91afb45a",
   "metadata": {},
   "outputs": [],
   "source": [
    "# Get the unique values of 'B' column\n",
    "df.B.unique()"
   ]
  },
  {
   "cell_type": "markdown",
   "id": "536c103f",
   "metadata": {},
   "source": [
    "## Python & Pandas: How to query if a list-type column contains something?\n",
    "\n",
    "https://stackoverflow.com/questions/41518920/python-pandas-how-to-query-if-a-list-type-column-contains-something\n",
    "\n"
   ]
  },
  {
   "cell_type": "code",
   "execution_count": null,
   "id": "5fcba203",
   "metadata": {},
   "outputs": [],
   "source": [
    "# Convert the value of 'Name' column to lowercase\n",
    "df['Name'] = df['Name'].str.lower()"
   ]
  },
  {
   "cell_type": "code",
   "execution_count": null,
   "id": "db4cde4e",
   "metadata": {},
   "outputs": [],
   "source": [
    "protein1619['gene_id'] =protein1619['gene_id'].astype(str)"
   ]
  },
  {
   "cell_type": "code",
   "execution_count": null,
   "id": "9354032b",
   "metadata": {},
   "outputs": [],
   "source": [
    "mask = curated.source.apply(lambda x: 'CTD_human' in x)\n",
    "df1 = curated[mask]\n",
    "df1"
   ]
  },
  {
   "cell_type": "code",
   "execution_count": null,
   "id": "1c2d42b8",
   "metadata": {},
   "outputs": [],
   "source": [
    "test=DisGeNET1.groupby(\"diseaseType\")\n",
    "test.count()"
   ]
  },
  {
   "cell_type": "code",
   "execution_count": null,
   "id": "6a3ca73b",
   "metadata": {},
   "outputs": [],
   "source": [
    "mask = DisGeNET.source.apply(lambda x: 'CTD_human' in x)\n",
    "DisGeNET2 = DisGeNET[mask]"
   ]
  },
  {
   "cell_type": "code",
   "execution_count": null,
   "id": "4d928820",
   "metadata": {},
   "outputs": [],
   "source": [
    "# read mat.file\n",
    "from mat4py import loadmat\n",
    "data = loadmat('/Users/yanpingwang/Desktop/druglist_V2/drug732/Experiment/ATC/2network_v2/feature/drugsim1network.mat')\n",
    "drugsim1network2=pd.DataFrame.from_dict(data)"
   ]
  },
  {
   "cell_type": "code",
   "execution_count": null,
   "id": "1f22d44a",
   "metadata": {},
   "outputs": [],
   "source": [
    "values = df.name.tolist()\n",
    "values"
   ]
  },
  {
   "cell_type": "code",
   "execution_count": null,
   "id": "00a7f2dc",
   "metadata": {},
   "outputs": [],
   "source": [
    "# 炸裂函数使用方法¶\n",
    "https://zhuanlan.zhihu.com/p/440276730"
   ]
  },
  {
   "cell_type": "markdown",
   "id": "f7350286",
   "metadata": {},
   "source": [
    "## Use a list of values to select rows from a Pandas dataframe\n",
    "https://stackoverflow.com/questions/12096252/use-a-list-of-values-to-select-rows-from-a-pandas-dataframe"
   ]
  },
  {
   "cell_type": "markdown",
   "id": "a2e0f145",
   "metadata": {},
   "source": [
    "## How to merge rows with same index on a single data frame?¶\n",
    "https://stackoverflow.com/questions/33424203/how-to-merge-rows-with-same-index-on-a-single-data-frame"
   ]
  },
  {
   "cell_type": "markdown",
   "id": "312046df",
   "metadata": {},
   "source": [
    "## 去除[]\n",
    "https://mlog.club/article/437142"
   ]
  },
  {
   "cell_type": "markdown",
   "id": "6fd323c9",
   "metadata": {},
   "source": [
    "## pandas - 需要提取 Pandas 数据框中括号内的内容 - 探索字符串¶\n",
    "https://string.quest/read/16785062"
   ]
  },
  {
   "cell_type": "markdown",
   "id": "9c37a490",
   "metadata": {},
   "source": [
    "## remove .DS_Store file¶\n",
    "https://medium.com/macoclock/remove-ds-store-files-8e1bfdd873c5"
   ]
  },
  {
   "cell_type": "code",
   "execution_count": null,
   "id": "f6423eef",
   "metadata": {},
   "outputs": [],
   "source": []
  }
 ],
 "metadata": {
  "kernelspec": {
   "display_name": "Python 3 (ipykernel)",
   "language": "python",
   "name": "python3"
  },
  "language_info": {
   "codemirror_mode": {
    "name": "ipython",
    "version": 3
   },
   "file_extension": ".py",
   "mimetype": "text/x-python",
   "name": "python",
   "nbconvert_exporter": "python",
   "pygments_lexer": "ipython3",
   "version": "3.8.2"
  }
 },
 "nbformat": 4,
 "nbformat_minor": 5
}
